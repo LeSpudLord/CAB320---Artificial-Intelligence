{
 "cells": [
  {
   "cell_type": "markdown",
   "id": "eea6071f-8e0f-4cfb-ae67-323337c91ba2",
   "metadata": {},
   "source": [
    "# CAB320 Assignment 2 - Transfer Learning\n",
    "Anthony Vanderkop, Thierry Peynot, Frederic Maire (Jupyter Notebook template: 2025)\n"
   ]
  },
  {
   "cell_type": "markdown",
   "id": "2c69e9bb-1cf5-49cd-9cc5-8680461ea876",
   "metadata": {},
   "source": [
    "## Instructions:\n",
    "The functions and classes defined in this module will be called by the marker without modification. \n",
    "You should complete the functions and classes according to their specified interfaces.\n",
    "\n",
    "No partial marks will be awarded for functions that do not meet the specifications of the interfaces.\n"
   ]
  },
  {
   "cell_type": "code",
   "execution_count": 3,
   "id": "a200b943-94f5-4099-a330-1e2b89aaff27",
   "metadata": {},
   "outputs": [
    {
     "ename": "ModuleNotFoundError",
     "evalue": "No module named 'keras'",
     "output_type": "error",
     "traceback": [
      "\u001b[31m---------------------------------------------------------------------------\u001b[39m",
      "\u001b[31mModuleNotFoundError\u001b[39m                       Traceback (most recent call last)",
      "\u001b[36mCell\u001b[39m\u001b[36m \u001b[39m\u001b[32mIn[3]\u001b[39m\u001b[32m, line 4\u001b[39m\n\u001b[32m      2\u001b[39m \u001b[38;5;28;01mimport\u001b[39;00m\u001b[38;5;250m \u001b[39m\u001b[34;01mos\u001b[39;00m\n\u001b[32m      3\u001b[39m \u001b[38;5;28;01mimport\u001b[39;00m\u001b[38;5;250m \u001b[39m\u001b[34;01mnumpy\u001b[39;00m\u001b[38;5;250m \u001b[39m\u001b[38;5;28;01mas\u001b[39;00m\u001b[38;5;250m \u001b[39m\u001b[34;01mnp\u001b[39;00m\n\u001b[32m----> \u001b[39m\u001b[32m4\u001b[39m \u001b[38;5;28;01mimport\u001b[39;00m\u001b[38;5;250m \u001b[39m\u001b[34;01mkeras\u001b[39;00m\u001b[34;01m.\u001b[39;00m\u001b[34;01mapplications\u001b[39;00m\u001b[38;5;250m \u001b[39m\u001b[38;5;28;01mas\u001b[39;00m\u001b[38;5;250m \u001b[39m\u001b[34;01mka\u001b[39;00m\n\u001b[32m      5\u001b[39m \u001b[38;5;28;01mimport\u001b[39;00m\u001b[38;5;250m \u001b[39m\u001b[34;01mkeras\u001b[39;00m\n",
      "\u001b[31mModuleNotFoundError\u001b[39m: No module named 'keras'"
     ]
    }
   ],
   "source": [
    "### LIBRARY IMPORTS ###\n",
    "import os\n",
    "import numpy as np\n",
    "import keras.applications as ka\n",
    "import keras"
   ]
  },
  {
   "attachments": {},
   "cell_type": "markdown",
   "id": "e2708ef2-ff27-4db9-8563-da2c648d69bd",
   "metadata": {},
   "source": [
    "## Task 1\n",
    "Implement the my_team()function "
   ]
  },
  {
   "cell_type": "code",
   "execution_count": null,
   "id": "34388e34-bd90-4e02-9759-f7c4bd9a598e",
   "metadata": {},
   "outputs": [],
   "source": [
    "def my_team():\n",
    "    '''\n",
    "    Return the list of the team members of this assignment submission as a list\n",
    "    of triplet of the form (student_number, first_name, last_name)\n",
    "    \n",
    "    '''\n",
    "    return [(11582774, 'Orrin', 'Hatch'), (11734400, 'Michael', 'Pettigrew')]"
   ]
  },
  {
   "cell_type": "code",
   "execution_count": null,
   "id": "a005199c-572f-4968-9438-881ad28b62b8",
   "metadata": {},
   "outputs": [],
   "source": [
    "print(f'Members of Group 104: {my_team()}')"
   ]
  },
  {
   "attachments": {},
   "cell_type": "markdown",
   "id": "9f05d766-c455-44f0-a0db-ae271e5926cf",
   "metadata": {},
   "source": [
    "## Task 2\n",
    "Download the small_flower_dataset from Canvas and load the data"
   ]
  },
  {
   "cell_type": "code",
   "execution_count": null,
   "id": "d097372f-1af6-4295-b6c7-54eaa1558eef",
   "metadata": {},
   "outputs": [],
   "source": [
    "def load_data(path):\n",
    "    '''\n",
    "    Load in the dataset from its home path. Path should be a string of the path\n",
    "    to the home directory the dataset is found in. Should return a numpy array\n",
    "    with paired images and class labels.\n",
    "    \n",
    "    Insert a more detailed description here.\n",
    "    '''\n",
    "    class_names = sorted(\n",
    "        d for d in os.listdir(path)\n",
    "        if os.path.isdir(os.path.join(path, d))\n",
    "    )\n",
    "    \n",
    "    images = []\n",
    "    labels = []\n",
    "    for label, cls in enumerate(class_names):\n",
    "        folder = os.path.join(path, cls)\n",
    "        for fname in os.listdir(folder):\n",
    "            fpath = os.path.join(folder, fname)\n",
    "            try:\n",
    "                # load & resize\n",
    "                img = keras.preprocessing.image.load_img(\n",
    "                    fpath, target_size=(500,500)\n",
    "                )\n",
    "                arr = keras.preprocessing.image.img_to_array(img)\n",
    "                # ImageNet‐style preprocessing\n",
    "                arr = ka.mobilenet_v2.preprocess_input(arr)\n",
    "            except Exception:\n",
    "                continue\n",
    "            images.append(arr)\n",
    "            labels.append(label)\n",
    "    \n",
    "    return (\n",
    "        np.stack(images, axis=0),\n",
    "        np.array(labels, dtype=np.int32),\n",
    "        class_names\n",
    "    )"
   ]
  },
  {
   "cell_type": "code",
   "execution_count": null,
   "id": "c152ca73-ba01-4c86-9ae9-4080f48c005a",
   "metadata": {},
   "outputs": [
    {
     "ename": "NameError",
     "evalue": "name 'os' is not defined",
     "output_type": "error",
     "traceback": [
      "\u001b[31m---------------------------------------------------------------------------\u001b[39m",
      "\u001b[31mNameError\u001b[39m                                 Traceback (most recent call last)",
      "\u001b[36mCell\u001b[39m\u001b[36m \u001b[39m\u001b[32mIn[2]\u001b[39m\u001b[32m, line 2\u001b[39m\n\u001b[32m      1\u001b[39m DATA_DIR = \u001b[33mr\u001b[39m\u001b[33m\"\u001b[39m\u001b[33mC:\u001b[39m\u001b[33m\\\u001b[39m\u001b[33mUsers\u001b[39m\u001b[33m\\\u001b[39m\u001b[33morrha\u001b[39m\u001b[33m\\\u001b[39m\u001b[33mDocuments\u001b[39m\u001b[33m\\\u001b[39m\u001b[33mQUT EV01\u001b[39m\u001b[33m\\\u001b[39m\u001b[33mCAB320\u001b[39m\u001b[33m\\\u001b[39m\u001b[33msmall_flower_dataset\u001b[39m\u001b[33m\"\u001b[39m  \u001b[38;5;66;03m# adjust as needed\u001b[39;00m\n\u001b[32m----> \u001b[39m\u001b[32m2\u001b[39m images, labels, class_names = \u001b[43mload_data\u001b[49m\u001b[43m(\u001b[49m\u001b[43mDATA_DIR\u001b[49m\u001b[43m)\u001b[49m\n",
      "\u001b[36mCell\u001b[39m\u001b[36m \u001b[39m\u001b[32mIn[1]\u001b[39m\u001b[32m, line 10\u001b[39m, in \u001b[36mload_data\u001b[39m\u001b[34m(path)\u001b[39m\n\u001b[32m      1\u001b[39m \u001b[38;5;28;01mdef\u001b[39;00m\u001b[38;5;250m \u001b[39m\u001b[34mload_data\u001b[39m(path):\n\u001b[32m      2\u001b[39m \u001b[38;5;250m    \u001b[39m\u001b[33;03m'''\u001b[39;00m\n\u001b[32m      3\u001b[39m \u001b[33;03m    Load in the dataset from its home path. Path should be a string of the path\u001b[39;00m\n\u001b[32m      4\u001b[39m \u001b[33;03m    to the home directory the dataset is found in. Should return a numpy array\u001b[39;00m\n\u001b[32m   (...)\u001b[39m\u001b[32m      7\u001b[39m \u001b[33;03m    Insert a more detailed description here.\u001b[39;00m\n\u001b[32m      8\u001b[39m \u001b[33;03m    '''\u001b[39;00m\n\u001b[32m      9\u001b[39m     class_names = \u001b[38;5;28msorted\u001b[39m(\n\u001b[32m---> \u001b[39m\u001b[32m10\u001b[39m         d \u001b[38;5;28;01mfor\u001b[39;00m d \u001b[38;5;129;01min\u001b[39;00m \u001b[43mos\u001b[49m.listdir(path)\n\u001b[32m     11\u001b[39m         \u001b[38;5;28;01mif\u001b[39;00m os.path.isdir(os.path.join(path, d))\n\u001b[32m     12\u001b[39m     )\n\u001b[32m     14\u001b[39m     images = []\n\u001b[32m     15\u001b[39m     labels = []\n",
      "\u001b[31mNameError\u001b[39m: name 'os' is not defined"
     ]
    }
   ],
   "source": [
    "DATA_DIR = r\"C:\\Users\\orrha\\Documents\\QUT EV01\\CAB320\\small_flower_dataset\"  # adjust as needed\n",
    "images, labels, class_names = load_data(DATA_DIR)\n"
   ]
  },
  {
   "attachments": {},
   "cell_type": "markdown",
   "id": "80fac75b-cd93-43c5-8d8d-1879d7eca281",
   "metadata": {},
   "source": [
    "## Task 3\n",
    "Prepare your training, validation and test sets for the non-accelerated version of transfer learning."
   ]
  },
  {
   "cell_type": "code",
   "execution_count": null,
   "id": "e860e1f6-3f93-4a43-9f1b-4cf4a41a3f2b",
   "metadata": {},
   "outputs": [],
   "source": [
    "def split_data(X, Y, train_fraction, randomize=False, eval_set=True):\n",
    "    \"\"\"\n",
    "    Split the data into training and testing sets. If eval_set is True, also create\n",
    "    an evaluation dataset. There should be two outputs if eval_set there should\n",
    "    be three outputs (train, test, eval), otherwise two outputs (train, test).\n",
    "    \n",
    "    To see what type train, test, and eval should be, refer to the inputs of \n",
    "    transfer_learning().\n",
    "    \n",
    "    Insert a more detailed description here.\n",
    "    \"\"\"\n",
    "    raise NotImplementedError"
   ]
  },
  {
   "cell_type": "code",
   "execution_count": null,
   "id": "cb930662-27e6-48ef-bb27-7a1416bc71eb",
   "metadata": {},
   "outputs": [],
   "source": [
    "# train_set, eval_set, test_set = split_data()"
   ]
  },
  {
   "cell_type": "markdown",
   "id": "15589224-dd3f-4fad-ad8d-d15cfb802070",
   "metadata": {},
   "source": [
    "Report: Include details of how you have split the data to perform this training. Ensure the split is reasonable and does not introduce class imbalance during training"
   ]
  },
  {
   "cell_type": "markdown",
   "id": "2bde3a73-ca22-4a7f-9f80-3e967c101a9c",
   "metadata": {},
   "source": [
    "Insert details here.\n"
   ]
  },
  {
   "cell_type": "markdown",
   "id": "fcedfa72",
   "metadata": {},
   "source": []
  },
  {
   "cell_type": "markdown",
   "id": "3c32f044-7c28-4b05-88e4-1bb3c9a40e6a",
   "metadata": {},
   "source": [
    "## Task 4\n",
    "Using the tf.keras.applications module download a pretrained MobileNetV2 network. "
   ]
  },
  {
   "cell_type": "code",
   "execution_count": null,
   "id": "030aa5ef-1c4b-4098-bcd7-8a04472b72a6",
   "metadata": {},
   "outputs": [],
   "source": [
    "def load_model():\n",
    "    '''\n",
    "    Load in a model using the tf.keras.applications model and return it.\n",
    "    Insert a more detailed description here\n",
    "    '''\n",
    "    raise NotImplementedError\n",
    "    "
   ]
  },
  {
   "cell_type": "code",
   "execution_count": null,
   "id": "7ea297fc-1202-4a5c-b1ef-80ab85565d8a",
   "metadata": {},
   "outputs": [],
   "source": [
    "# model = load_model()"
   ]
  },
  {
   "cell_type": "markdown",
   "id": "0ad4169c-1a23-4861-a405-933e5e23acf2",
   "metadata": {},
   "source": [
    "## Task 5\n",
    "Replace the last layer of the downloaded neural network with a Dense layer of the appropriate shape for the 5 classes of the small flower dataset {(x1,t1), (x2,t2),..., (xm,tm)}.\n",
    "\n",
    "## Task 6\n",
    "Compile and train your model with an SGD optimizer using the following parameters learning_rate=0.01, momentum=0.0, nesterov=False. (NB: The SGD class description can be found at https://keras.io/api/optimizers/sgd/  )"
   ]
  },
  {
   "cell_type": "code",
   "execution_count": null,
   "id": "c772426f-bacc-4499-82b7-c39e7e6f759e",
   "metadata": {},
   "outputs": [],
   "source": [
    "def transfer_learning(train_set, eval_set, model, parameters):\n",
    "    '''\n",
    "    Implement and perform standard transfer learning here.\n",
    "\n",
    "    Inputs:\n",
    "        - train_set: list or tuple of the training images and labels in the\n",
    "            form (images, labels) for training the classifier\n",
    "        - eval_set: list or tuple of the images and labels used in evaluating\n",
    "            the model during training, in the form (images, labels)\n",
    "        - model: an instance of tf.keras.applications.MobileNetV2\n",
    "        - parameters: list or tuple of parameters to use during training:\n",
    "            (learning_rate, momentum, nesterov)\n",
    "\n",
    "\n",
    "    Outputs:\n",
    "        - model : an instance of tf.keras.applications.MobileNetV2\n",
    "\n",
    "    '''\n",
    "    raise NotImplementedError\n",
    "    return model"
   ]
  },
  {
   "cell_type": "code",
   "execution_count": null,
   "id": "a7aa810f-fff8-444e-9bf7-ed363f5c1275",
   "metadata": {},
   "outputs": [],
   "source": [
    "# model = transfer_learning()"
   ]
  },
  {
   "attachments": {},
   "cell_type": "markdown",
   "id": "0fb50fb9-d51c-44ce-bf19-0f9297e3e81f",
   "metadata": {},
   "source": [
    "## Task 7\n",
    "Plot the training and validation errors and accuracies of standard transfer "
   ]
  },
  {
   "cell_type": "code",
   "execution_count": null,
   "id": "db153942-2ebf-4dfa-81de-359e35f154e7",
   "metadata": {},
   "outputs": [],
   "source": [
    "## Your Code"
   ]
  },
  {
   "cell_type": "markdown",
   "id": "8a9f737e-c8ae-45e5-9079-875df5bee670",
   "metadata": {},
   "source": [
    "## Task 8\n",
    "Experiment with 3 different orders of magnitude for the learning rate. Plot the results and discuss in the below markdown cell"
   ]
  },
  {
   "cell_type": "code",
   "execution_count": null,
   "id": "bae55c60-3f9b-490a-9bf6-8400991aed0e",
   "metadata": {},
   "outputs": [],
   "source": [
    "## Your code"
   ]
  },
  {
   "cell_type": "markdown",
   "id": "6aab305b-8062-4109-83cc-27efa6da76d2",
   "metadata": {},
   "source": [
    "### Task 8 Analysis and discussion\n"
   ]
  },
  {
   "cell_type": "markdown",
   "id": "63b0d640-a4f8-48d2-ab89-d67be0aa2ddb",
   "metadata": {},
   "source": []
  },
  {
   "cell_type": "markdown",
   "id": "c0311fdb-24fd-4bec-8f92-57297187eccb",
   "metadata": {},
   "source": [
    "## Task 9\n",
    "Run the resulting classifier on your test dataset using results from the best learning rate you experimented with. Compute and display the confusion matrix. "
   ]
  },
  {
   "cell_type": "code",
   "execution_count": null,
   "id": "9a466142-2557-4939-9e85-703c7848aa84",
   "metadata": {},
   "outputs": [],
   "source": [
    "## Your code"
   ]
  },
  {
   "attachments": {},
   "cell_type": "markdown",
   "id": "37409d3d-8d3d-46ae-ac6b-32f1e6024db1",
   "metadata": {},
   "source": [
    "## Task 10\n",
    "Compute the precision, recall, and f1 scores of your classifier on the test dataset using the best learning rate. Report on the results and comment. "
   ]
  },
  {
   "cell_type": "code",
   "execution_count": null,
   "id": "91113bcb-87e7-4526-ba8b-21adddf0ab2e",
   "metadata": {},
   "outputs": [],
   "source": [
    "## Your code"
   ]
  },
  {
   "cell_type": "markdown",
   "id": "be01afb6-3d23-4c74-adc8-986d3990388c",
   "metadata": {},
   "source": [
    "## Task 11\n",
    "Perform k-fold validation on the dataset with k = 3. "
   ]
  },
  {
   "cell_type": "code",
   "execution_count": null,
   "id": "e9b20cb7-76ca-4a56-9a41-707482122113",
   "metadata": {},
   "outputs": [],
   "source": [
    "def k_fold_validation(features, ground_truth, classifier, k=2):\n",
    "    '''\n",
    "    Inputs:\n",
    "        - features: np.ndarray of features in the dataset\n",
    "        - ground_truth: np.ndarray of class values associated with the features\n",
    "        - fit_func: f\n",
    "        - classifier: class object with both fit() and predict() methods which\n",
    "        can be applied to subsets of the features and ground_truth inputs.\n",
    "        - predict_func: function, calling predict_func(features) should return\n",
    "        a numpy array of class predictions which can in turn be input to the \n",
    "        functions in this script to calculate performance metrics.\n",
    "        - k: int, number of sub-sets to partition the data into. default is k=2\n",
    "    Outputs:\n",
    "        - avg_metrics: np.ndarray of shape (3, c) where c is the number of classes.\n",
    "        The first row is the average precision for each class over the k\n",
    "        validation steps. Second row is recall and third row is f1 score.\n",
    "        - sigma_metrics: np.ndarray, each value is the standard deviation of \n",
    "        the performance metrics [precision, recall, f1_score]\n",
    "    '''\n",
    "    \n",
    "    #split data\n",
    "    ### YOUR CODE HERE ###\n",
    "    \n",
    "    #go through each partition and use it as a test set.\n",
    "    for partition_no in range(k):\n",
    "        #determine test and train sets\n",
    "        ### YOUR CODE HERE###\n",
    "        \n",
    "        #fit model to training data and perform predictions on the test set\n",
    "        classifier.fit(train_features, train_classes)\n",
    "        predictions = classifier.predict(test_features)\n",
    "        \n",
    "        #calculate performance metrics\n",
    "        ### YOUR CODE HERE###\n",
    "    \n",
    "    #perform statistical analyses on metrics\n",
    "    ### YOUR CODE HERE###\n",
    "    \n",
    "    raise NotImplementedError\n",
    "    return avg_metrics, sigma_metrics"
   ]
  },
  {
   "cell_type": "code",
   "execution_count": null,
   "id": "87e8b614-53db-4adf-ae35-e96b0b0fa485",
   "metadata": {},
   "outputs": [],
   "source": [
    "## Your code\n",
    "# xx = k_fold_validation(xx, xx, xx, xx)"
   ]
  },
  {
   "cell_type": "markdown",
   "id": "9201857c-0cd2-487b-a2ad-4e6abe619fbf",
   "metadata": {},
   "source": [
    "Comment on the results and any differences with the previous test-train split. \n",
    "Repeat with two different values for k and comment on the results. "
   ]
  },
  {
   "cell_type": "markdown",
   "id": "e16615b4-bbdd-445e-9835-34df03f3c8cb",
   "metadata": {},
   "source": [
    "### Comments and analysis"
   ]
  },
  {
   "cell_type": "markdown",
   "id": "5a1bae8a-30cc-4143-8de0-80477170caf6",
   "metadata": {},
   "source": [
    "## Task 12\n",
    "With the best learning rate that you found in the previous task, add a non-zero momentum to the training with the SGD optimizer (consider 3 values for the momentum). Report on how your results change.  "
   ]
  },
  {
   "cell_type": "code",
   "execution_count": null,
   "id": "bb44e49f-4adc-4d63-8bb3-15e39bb29e55",
   "metadata": {},
   "outputs": [],
   "source": [
    "## Code"
   ]
  },
  {
   "cell_type": "markdown",
   "id": "14f5fa9c-94a3-4c7a-91a1-8d6afe9c4dce",
   "metadata": {},
   "source": [
    "### Report"
   ]
  },
  {
   "cell_type": "markdown",
   "id": "2571260a-66e9-4b44-b012-74d7eee13359",
   "metadata": {},
   "source": [
    "## Task 13\n",
    "Now using “accelerated transfer learning”, repeat the training process (k-fold validation is optional this time). You should prepare your training, validation and test sets based on {(F(x1).t1), (F(x2),t2),...,(F(xm),tm)}, and re-do Task 12. \n"
   ]
  },
  {
   "cell_type": "code",
   "execution_count": null,
   "id": "0eefd040-d00d-4869-8c96-67b5934d05ef",
   "metadata": {},
   "outputs": [],
   "source": [
    "def accelerated_learning(train_set, eval_set, model, parameters):\n",
    "    '''\n",
    "    Implement and perform accelerated transfer learning here.\n",
    "\n",
    "    Inputs:\n",
    "        - train_set: list or tuple of the training images and labels in the\n",
    "            form (images, labels) for training the classifier\n",
    "        - eval_set: list or tuple of the images and labels used in evaluating\n",
    "            the model during training, in the form (images, labels)\n",
    "        - model: an instance of tf.keras.applications.MobileNetV2\n",
    "        - parameters: list or tuple of parameters to use during training:\n",
    "            (learning_rate, momentum, nesterov)\n",
    "\n",
    "\n",
    "    Outputs:\n",
    "        - model : an instance of tf.keras.applications.MobileNetV2\n",
    "\n",
    "    '''\n",
    "    raise NotImplementedError\n",
    "    return model"
   ]
  },
  {
   "cell_type": "markdown",
   "id": "e338442d-a821-40c1-9b65-2fed7e552da2",
   "metadata": {},
   "source": [
    "\n",
    "Plot and comment on the results and differences against the standard implementation of transfer learning. "
   ]
  },
  {
   "cell_type": "code",
   "execution_count": null,
   "id": "35c0b0f6-99fc-4c28-bc2e-b8e0954279b5",
   "metadata": {},
   "outputs": [],
   "source": [
    "## Code"
   ]
  },
  {
   "cell_type": "markdown",
   "id": "25897cb9-3a50-448a-98a0-d75b7cebe769",
   "metadata": {},
   "source": [
    "### Your Comments:"
   ]
  },
  {
   "cell_type": "markdown",
   "id": "7c39cbe5-1894-4083-b8be-81b00b8822a4",
   "metadata": {},
   "source": [
    "## Task 14\n",
    "Use the results of all experiments to make suggestions for future work and recommendations for parameter values to anyone else who may be interested in a similar implementation of transfer learning. "
   ]
  },
  {
   "cell_type": "markdown",
   "id": "e3d30537-a23b-4678-9336-a08a5c61e14f",
   "metadata": {},
   "source": [
    "### Your answer:"
   ]
  },
  {
   "cell_type": "markdown",
   "id": "0218070e-f721-44d4-9efa-6b7004af906a",
   "metadata": {},
   "source": []
  }
 ],
 "metadata": {
  "kernelspec": {
   "display_name": "egb439",
   "language": "python",
   "name": "python3"
  },
  "language_info": {
   "codemirror_mode": {
    "name": "ipython",
    "version": 3
   },
   "file_extension": ".py",
   "mimetype": "text/x-python",
   "name": "python",
   "nbconvert_exporter": "python",
   "pygments_lexer": "ipython3",
   "version": "3.11.12"
  }
 },
 "nbformat": 4,
 "nbformat_minor": 5
}
